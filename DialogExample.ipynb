{
 "cells": [
  {
   "cell_type": "code",
   "execution_count": 22,
   "metadata": {},
   "outputs": [],
   "source": [
    "import requests\n",
    "\n",
    "url = \"http://localhost:8080/process\""
   ]
  },
  {
   "cell_type": "markdown",
   "metadata": {},
   "source": [
    "Идеальный заказ"
   ]
  },
  {
   "cell_type": "code",
   "execution_count": 14,
   "metadata": {},
   "outputs": [
    {
     "name": "stdout",
     "output_type": "stream",
     "text": [
      "{'response': \"Welcome to our pizza ordering system! I'm excited to help you create your perfect pie. To get started, can you please tell me what type of pizza you're in the mood for? Would you like a classic margherita, or something more adventurous like pepperoni and salami?\", 'data': {'type': None, 'size': None, 'crust': None, 'toppings': [], 'spice': None, 'additional': [], 'is_complete': False}, 'service_response': None}\n"
     ]
    }
   ],
   "source": [
    "msg = {\"message\": \"start\"}\n",
    "response = requests.post(url, json=msg)\n",
    "print(response.json())"
   ]
  },
  {
   "cell_type": "code",
   "execution_count": 15,
   "metadata": {},
   "outputs": [
    {
     "name": "stdout",
     "output_type": "stream",
     "text": [
      "{'response': \"Thank you for choosing a vegetarian pizza! That's a great choice. Now, let's move on to the size of your pizza. Would you like it small, medium, or large?\", 'data': {'type': None, 'size': None, 'crust': None, 'toppings': [], 'spice': None, 'additional': [], 'is_complete': False}, 'service_response': None}\n"
     ]
    }
   ],
   "source": [
    "msg = {\"message\": \"Vegetarian\"}\n",
    "response = requests.post(url, json=msg)\n",
    "print(response.json())"
   ]
  },
  {
   "cell_type": "code",
   "execution_count": 16,
   "metadata": {},
   "outputs": [
    {
     "name": "stdout",
     "output_type": "stream",
     "text": [
      "{'response': \"Thank you for choosing a medium-sized vegetarian pizza! Now, let's talk about the crust. Would you prefer it thin and crispy or thick and dense?\", 'data': {'type': None, 'size': None, 'crust': None, 'toppings': [], 'spice': None, 'additional': [], 'is_complete': False}, 'service_response': None}\n"
     ]
    }
   ],
   "source": [
    "msg = {\"message\": \"Medium\"}\n",
    "response = requests.post(url, json=msg)\n",
    "print(response.json())"
   ]
  },
  {
   "cell_type": "code",
   "execution_count": 17,
   "metadata": {},
   "outputs": [
    {
     "name": "stdout",
     "output_type": "stream",
     "text": [
      "{'response': \"Thank you for choosing a thin crust for your medium-sized vegetarian pizza! Now, let's talk about toppings. What would you like on your pizza? Would you like some extra cheese, mushrooms, onions, or perhaps some bell peppers?\\n\\nPlease respond with one of the following options: cheese, mushrooms, onions, bell peppers, or any other topping you'd like to add.\", 'data': {'type': None, 'size': None, 'crust': None, 'toppings': [], 'spice': None, 'additional': [], 'is_complete': False}, 'service_response': None}\n"
     ]
    }
   ],
   "source": [
    "msg = {\"message\": \"Thin\"}\n",
    "response = requests.post(url, json=msg)\n",
    "print(response.json())"
   ]
  },
  {
   "cell_type": "code",
   "execution_count": 18,
   "metadata": {},
   "outputs": [
    {
     "name": "stdout",
     "output_type": "stream",
     "text": [
      "{'response': \"Thank you for choosing bell peppers as one of your toppings! Now that we have a good idea of what's going on top of your pizza, let's talk about spice level. Would you like it mild and not spicy at all, or perhaps something with a bit more heat?\", 'data': {'type': None, 'size': None, 'crust': None, 'toppings': [], 'spice': None, 'additional': [], 'is_complete': False}, 'service_response': None}\n"
     ]
    }
   ],
   "source": [
    "msg = {\"message\": \"bell peppers\"}\n",
    "response = requests.post(url, json=msg)\n",
    "print(response.json())"
   ]
  },
  {
   "cell_type": "code",
   "execution_count": 19,
   "metadata": {},
   "outputs": [
    {
     "name": "stdout",
     "output_type": "stream",
     "text": [
      "{'response': \"Thank you for choosing a spicy pizza! Now that we have your spice level set, let's move on to any additional requests. Would you like some extra cheese or perhaps make it gluten-free?\", 'data': {'type': None, 'size': None, 'crust': None, 'toppings': [], 'spice': None, 'additional': [], 'is_complete': False}, 'service_response': None}\n"
     ]
    }
   ],
   "source": [
    "msg = {\"message\": \"hot\"}\n",
    "response = requests.post(url, json=msg)\n",
    "print(response.json())"
   ]
  },
  {
   "cell_type": "code",
   "execution_count": 20,
   "metadata": {},
   "outputs": [
    {
     "name": "stdout",
     "output_type": "stream",
     "text": [
      "{'response': 'Thank you for choosing \"no onions\" as an additional request! That\\'s a great choice. Now that we have all the details, I\\'d like to summarize your order:\\n\\n* Type: Vegetarian\\n* Size: Medium\\n* Crust: Thin\\n* Toppings: Bell peppers\\n* Spice: Hot\\n* Additional: No onions\\n\\nIs this correct? If so, please confirm your order by saying \"yes\" or \"I\\'m ready to place my order.\"', 'data': {'type': None, 'size': None, 'crust': None, 'toppings': [], 'spice': None, 'additional': [], 'is_complete': False}, 'service_response': None}\n"
     ]
    }
   ],
   "source": [
    "msg = {\"message\": \"no onions\"}\n",
    "response = requests.post(url, json=msg)\n",
    "print(response.json())"
   ]
  },
  {
   "cell_type": "code",
   "execution_count": 21,
   "metadata": {},
   "outputs": [
    {
     "name": "stdout",
     "output_type": "stream",
     "text": [
      "{'response': \"Congratulations! Your order is now confirmed. Thank you for choosing our vegetarian pizza with a medium size, thin crust, bell peppers as toppings, hot spice level, and no onions. We're excited to serve you this delicious pie!\\n\\nPlease note that your order summary is:\\n\\n* Type: Vegetarian\\n* Size: Medium\\n* Crust: Thin\\n* Toppings: Bell peppers\\n* Spice: Hot\\n* Additional: No onions\\n\\nIs there anything else I can assist you with?\", 'data': {'type': None, 'size': None, 'crust': None, 'toppings': [], 'spice': None, 'additional': [], 'is_complete': False}, 'service_response': None}\n"
     ]
    }
   ],
   "source": [
    "msg = {\"message\": \"yes\"}\n",
    "response = requests.post(url, json=msg)\n",
    "print(response.json())"
   ]
  },
  {
   "cell_type": "markdown",
   "metadata": {},
   "source": [
    "Обычный диалог с БЯМ"
   ]
  },
  {
   "cell_type": "code",
   "execution_count": 23,
   "metadata": {},
   "outputs": [
    {
     "name": "stdout",
     "output_type": "stream",
     "text": [
      "{'response': \"Welcome to our pizza ordering system! I'm excited to help you create your perfect pie. To get started, can you please tell me what type of pizza you're in the mood for? Would you like a classic margherita, or something more adventurous like pepperoni and salami?\", 'data': {'type': None, 'size': None, 'crust': None, 'toppings': [], 'spice': None, 'additional': [], 'is_complete': False}, 'service_response': None}\n"
     ]
    }
   ],
   "source": [
    "msg = {\"message\": \"start\"}\n",
    "response = requests.post(url, json=msg)\n",
    "print(response.json())"
   ]
  },
  {
   "cell_type": "code",
   "execution_count": 24,
   "metadata": {},
   "outputs": [
    {
     "name": "stdout",
     "output_type": "stream",
     "text": [
      "{'response': \"AI: I understand that you're not interested in a specific type of pizza. Can you please tell me what size pizza you would like? Would you prefer something small or large?\", 'data': {'type': None, 'size': None, 'crust': None, 'toppings': [], 'spice': None, 'additional': [], 'is_complete': False}, 'service_response': None}\n"
     ]
    }
   ],
   "source": [
    "msg = {\"message\": \"No matter pizza\"}\n",
    "response = requests.post(url, json=msg)\n",
    "print(response.json())"
   ]
  },
  {
   "cell_type": "code",
   "execution_count": 25,
   "metadata": {},
   "outputs": [
    {
     "name": "stdout",
     "output_type": "stream",
     "text": [
      "{'response': \"I understand that you're not interested in a specific size of pizza. That's okay! Let's focus on the crust instead. Would you like your pizza with a thin and crispy crust or something thicker and more dense?\", 'data': {'type': None, 'size': None, 'crust': None, 'toppings': [], 'spice': None, 'additional': [], 'is_complete': False}, 'service_response': None}\n"
     ]
    }
   ],
   "source": [
    "msg = {\"message\": \"Doesn't matter\"}\n",
    "response = requests.post(url, json=msg)\n",
    "print(response.json())"
   ]
  },
  {
   "cell_type": "code",
   "execution_count": 26,
   "metadata": {},
   "outputs": [
    {
     "name": "stdout",
     "output_type": "stream",
     "text": [
      "{'response': \"AI: Great choice! So, you're leaning towards a medium crust. That's a great starting point. Now, let's talk about toppings. What would you like on your pizza? Would you prefer some classic favorites like cheese and pepperoni, or something more unique like mushrooms or olives?\\nPlease respond with the type of topping(s) you'd like.\", 'data': {'type': None, 'size': None, 'crust': None, 'toppings': [], 'spice': None, 'additional': [], 'is_complete': False}, 'service_response': None}\n"
     ]
    }
   ],
   "source": [
    "msg = {\"message\": \"Okay maybe medium\"}\n",
    "response = requests.post(url, json=msg)\n",
    "print(response.json())"
   ]
  },
  {
   "cell_type": "code",
   "execution_count": 27,
   "metadata": {},
   "outputs": [
    {
     "name": "stdout",
     "output_type": "stream",
     "text": [
      "{'response': 'AI: Great choice! So, you\\'d like to add some cheese to your pizza. That\\'s a fantastic start! Since you mentioned \"small\" cheese, I\\'m assuming you mean a moderate amount of cheese rather than an overwhelming amount. Is that correct?\\n\\nPlease confirm or clarify the type of cheese and any additional toppings you\\'d like on your pizza.\\n\\n(Note: The order details so far are: medium crust, no specific type of pizza, doesn\\'t matter size)', 'data': {'type': None, 'size': None, 'crust': None, 'toppings': [], 'spice': None, 'additional': [], 'is_complete': False}, 'service_response': None}\n"
     ]
    }
   ],
   "source": [
    "msg = {\"message\": \"Can you add a small cheese?\"}\n",
    "response = requests.post(url, json=msg)\n",
    "print(response.json())"
   ]
  },
  {
   "cell_type": "code",
   "execution_count": 28,
   "metadata": {},
   "outputs": [
    {
     "name": "stdout",
     "output_type": "stream",
     "text": [
      "{'response': \"I understand that you don't want any additional toppings on your pizza. That's perfectly fine! Since we've already discussed the crust and cheese, let's move on to the spice level of your pizza.\\n\\nWould you like your pizza to be mild and not spicy at all, or do you prefer a bit more heat with medium or hot spice?\\n\\n(Note: The order details so far are: medium crust, no specific type of pizza, doesn't matter size, small cheese)\", 'data': {'type': None, 'size': None, 'crust': None, 'toppings': [], 'spice': None, 'additional': [], 'is_complete': False}, 'service_response': None}\n"
     ]
    }
   ],
   "source": [
    "msg = {\"message\": \"No, dont want an additional toppings\"}\n",
    "response = requests.post(url, json=msg)\n",
    "print(response.json())"
   ]
  },
  {
   "cell_type": "code",
   "execution_count": 29,
   "metadata": {},
   "outputs": [
    {
     "name": "stdout",
     "output_type": "stream",
     "text": [
      "{'response': \"I understand that you're unsure about the spice level of your pizza. That's okay! Let me help you narrow it down.\\n\\nSince you mentioned it's somewhere between spicy and not spicy, I'm going to take a guess that you might prefer a moderate spice level. Am I correct?\\n\\n(Note: The order details so far are: medium crust, no specific type of pizza, doesn't matter size, small cheese)\\n\\nPlease confirm or clarify the spice level for your pizza.\", 'data': {'type': None, 'size': None, 'crust': None, 'toppings': [], 'spice': None, 'additional': [], 'is_complete': False}, 'service_response': None}\n"
     ]
    }
   ],
   "source": [
    "msg = {\"message\": \"I don't know, it's somewhere between spicy and not spicy.\"}\n",
    "response = requests.post(url, json=msg)\n",
    "print(response.json())"
   ]
  },
  {
   "cell_type": "code",
   "execution_count": 30,
   "metadata": {},
   "outputs": [
    {
     "name": "stdout",
     "output_type": "stream",
     "text": [
      "{'response': \"I'm glad we're making progress on your pizza order! Since you confirmed the moderate spice level, I think we've got most of the details covered. Let me summarize what we have so far:\\n\\n* Crust: Medium\\n* Type: No specific type mentioned (but that's okay!)\\n* Size: Doesn't matter\\n* Cheese: Small amount\\n\\nNow, let's confirm the order and make sure everything is correct before moving forward.\\n\\nPlease review the following details and let me know if they're accurate:\\n\\n* Medium crust\\n* No specific pizza type\\n* Any size will do\\n* Small cheese\\n\\nIf these look good to you, I'll finalize your order. If not, please let me know what changes you'd like to make!\", 'data': {'type': None, 'size': None, 'crust': None, 'toppings': [], 'spice': None, 'additional': [], 'is_complete': False}, 'service_response': None}\n"
     ]
    }
   ],
   "source": [
    "msg = {\"message\": \"Yeah yo right\"}\n",
    "response = requests.post(url, json=msg)\n",
    "print(response.json())"
   ]
  },
  {
   "cell_type": "code",
   "execution_count": 31,
   "metadata": {},
   "outputs": [
    {
     "name": "stdout",
     "output_type": "stream",
     "text": [
      "{'response': 'Based on the interaction, I can see that we have most of the details covered. The only field left unaddressed is the spice level.\\n\\nLet me summarize what we have so far:\\n\\n* Crust: Medium\\n* Type: No specific type mentioned (but that\\'s okay!)\\n* Size: Doesn\\'t matter\\n* Cheese: Small amount\\n\\nSince you confirmed the moderate spice level earlier, I\\'m going to assume that\\'s correct. However, let me confirm with you one more time.\\n\\nWould you like your pizza to be mild and not spicy at all, or do you prefer a bit more heat with medium or hot spice?\\n\\n(Note: The order details so far are: medium crust, no specific type of pizza, doesn\\'t matter size, small cheese)\\n\\nPlease respond with either \"mild\", \"medium\", or \"hot\" to confirm the spice level.', 'data': {'type': None, 'size': None, 'crust': None, 'toppings': [], 'spice': None, 'additional': [], 'is_complete': False}, 'service_response': None}\n"
     ]
    }
   ],
   "source": [
    "msg = {\"message\": \"Yes\"}\n",
    "response = requests.post(url, json=msg)\n",
    "print(response.json())"
   ]
  },
  {
   "cell_type": "markdown",
   "metadata": {},
   "source": [
    "Некорректные ответы"
   ]
  },
  {
   "cell_type": "code",
   "execution_count": 32,
   "metadata": {},
   "outputs": [
    {
     "name": "stdout",
     "output_type": "stream",
     "text": [
      "{'response': \"Welcome to our pizza ordering system! I'm excited to help you create your perfect pie. To get started, can you please tell me what type of pizza you're in the mood for? Would you like a classic margherita, or something more adventurous like pepperoni and salami?\", 'data': {'type': None, 'size': None, 'crust': None, 'toppings': [], 'spice': None, 'additional': [], 'is_complete': False}, 'service_response': None}\n"
     ]
    }
   ],
   "source": [
    "msg = {\"message\": \"start\"}\n",
    "response = requests.post(url, json=msg)\n",
    "print(response.json())"
   ]
  },
  {
   "cell_type": "code",
   "execution_count": 33,
   "metadata": {},
   "outputs": [
    {
     "name": "stdout",
     "output_type": "stream",
     "text": [
      "{'response': 'I apologize, but it seems we\\'ve started with an incorrect assumption. Since you mentioned wanting a \"big burger\", I\\'m assuming you didn\\'t intend to order a pizza after all.\\n\\nLet\\'s start fresh! Can you please tell me what type of food you\\'re craving today? Would you like something savory like a burger or perhaps something sweet like a dessert?', 'data': {'type': None, 'size': None, 'crust': None, 'toppings': [], 'spice': None, 'additional': [], 'is_complete': False}, 'service_response': None}\n"
     ]
    }
   ],
   "source": [
    "msg = {\"message\": \"I don't want a pizza, I want a big burger\"}\n",
    "response = requests.post(url, json=msg)\n",
    "print(response.json())"
   ]
  },
  {
   "cell_type": "code",
   "execution_count": 34,
   "metadata": {},
   "outputs": [
    {
     "name": "stdout",
     "output_type": "stream",
     "text": [
      "{'response': 'I apologize for the misunderstanding earlier! It seems we\\'re starting from scratch. Since you mentioned wanting a \"burger\", let\\'s focus on that.\\n\\nTo confirm, you\\'d like to order a burger, correct? If so, can you please specify what type of burger you\\'re interested in? Would you prefer a classic cheeseburger or something more unique like a veggie burger?\\n\\nPlease respond with the type of burger you have in mind.', 'data': {'type': None, 'size': None, 'crust': None, 'toppings': [], 'spice': None, 'additional': [], 'is_complete': False}, 'service_response': None}\n"
     ]
    }
   ],
   "source": [
    "msg = {\"message\": \"You dont understand, I want a burger\"}\n",
    "response = requests.post(url, json=msg)\n",
    "print(response.json())"
   ]
  },
  {
   "cell_type": "markdown",
   "metadata": {},
   "source": [
    "Генерация кода"
   ]
  },
  {
   "cell_type": "code",
   "execution_count": 13,
   "metadata": {},
   "outputs": [
    {
     "name": "stdout",
     "output_type": "stream",
     "text": [
      "Сгенерированный код:\n",
      "\n",
      "class DynamicOrder:\n",
      "    def __init__(self, config):\n",
      "        self.fields = {}\n",
      "        self.required_fields = []\n",
      "        self.collection_fields = []\n",
      "        self.is_complete = False\n",
      "\n",
      "        for param in config[\"product\"][\"parameters\"]:\n",
      "            field_name = param[\"name\"].lower()\n",
      "            self.fields[field_name] = [] if param[\"is_collection\"] == \"True\" else None\n",
      "            if param[\"is_required\"] == \"True\":\n",
      "                self.required_fields.append(field_name)\n",
      "            if param[\"is_collection\"] == \"True\":\n",
      "                self.collection_fields.append(field_name)\n",
      "\n",
      "    def update_order(self, key, value):\n",
      "        if key in self.fields:\n",
      "            if key in self.collection_fields:\n",
      "                if isinstance(self.fields[key], list):\n",
      "                    if value not in self.fields[key]:\n",
      "                        self.fields[key].append(value)\n",
      "            else:\n",
      "                self.fields[key] = value\n",
      "\n",
      "    def is_order_complete(self):\n",
      "        return all(self.fields[field] for field in self.required_fields)\n",
      "\n",
      "    def to_dict(self):\n",
      "        return {key: value for key, value in self.fields.items()} | {\"is_complete\": self.is_complete}\n",
      "\n",
      "    def save_to_json(self, filename=\"output.json\"):\n",
      "        with open(filename, \"w\") as file:\n",
      "            json.dump(self.to_dict(), file, indent=4)\n",
      "\n",
      "from langchain_community.llms.ollama import Ollama\n",
      "from fastapi import FastAPI\n",
      "from langserve import add_routes\n",
      "from langchain.prompts import PromptTemplate\n",
      "from langchain.memory import ConversationBufferMemory\n",
      "from langchain.chains import LLMChain\n",
      "from pydantic import BaseModel\n",
      "import json\n",
      "\n",
      "# Загрузка конфигурации из JSON\n",
      "config = {\"product\": {\"name\": \"pizza\", \"parameters\": [{\"name\": \"Type\", \"synonyms\": [\"margherita\", \"margarita\", \"pepperoni\", \"salami\", \"vegetarian\", \"veggie\", \"vegetable\", \"hawaiian\", \"pineapple\"], \"is_required\": \"True\", \"is_collection\": \"False\"}, {\"name\": \"Size\", \"synonyms\": [\"small\", \"little\", \"tiny\", \"medium\", \"average\", \"middle\", \"large\", \"big\", \"huge\"], \"is_required\": \"True\", \"is_collection\": \"False\"}, {\"name\": \"Crust\", \"synonyms\": [\"thin\", \"light\", \"crispy\", \"thick\", \"dense\", \"stuffed\", \"filled\"], \"is_required\": \"True\", \"is_collection\": \"False\"}, {\"name\": \"Toppings\", \"synonyms\": [\"cheese\", \"extra cheese\", \"mushrooms\", \"fungi\", \"onions\", \"pepperoni\", \"salami\", \"olives\", \"bacon\", \"pineapple\", \"peppers\", \"bell peppers\"], \"is_required\": \"False\", \"is_collection\": \"True\"}, {\"name\": \"Spice\", \"synonyms\": [\"mild\", \"not spicy\", \"low spice\", \"medium\", \"average spice\", \"moderate spice\", \"hot\", \"spicy\", \"extra spicy\"], \"is_required\": \"True\", \"is_collection\": \"False\"}, {\"name\": \"Additional\", \"synonyms\": [\"extra cheese\", \"gluten-free\", \"no onions\", \"without onions\", \"vegan cheese\"], \"is_required\": \"False\", \"is_collection\": \"True\"}]}}\n",
      "\n",
      "# Создание экземпляра\n",
      "current_instance = DynamicOrder(config)\n",
      "\n",
      "# Инициализация FastAPI\n",
      "app = FastAPI(\n",
      "    title=\"ordering_system\",\n",
      "    version=\"1.0\",\n",
      "    description=\"Formulate questions and responses as direct prompts for the user to clarify and complete the order.\",\n",
      ")\n",
      "\n",
      "# Подключение к модели\n",
      "llm = Ollama(model=\"llama3\", temperature=0.1)\n",
      "\n",
      "# Создание памяти для хранения промежуточных ответов\n",
      "memory = ConversationBufferMemory()\n",
      "\n",
      "# Шаблон промпта\n",
      "base_prompt_template = \"\"\"# character: You are an ordering assistant\n",
      "# skills:\n",
      "    - identifying missing information for an order\n",
      "    - asking only about remaining details to complete the order\n",
      "    - summarizing user-provided details accurately\n",
      "    - maintaining a concise and polite tone\n",
      "    - leveraging current order details to avoid redundant questions\n",
      "    - Ask specific questions about the following details:   - Type. Synonyms: 'margherita', 'margarita', 'pepperoni', 'salami', 'vegetarian', 'veggie', 'vegetable', 'hawaiian', 'pineapple'.\n",
      "  - Size. Synonyms: 'small', 'little', 'tiny', 'medium', 'average', 'middle', 'large', 'big', 'huge'.\n",
      "  - Crust. Synonyms: 'thin', 'light', 'crispy', 'thick', 'dense', 'stuffed', 'filled'.\n",
      "  - Toppings. Synonyms: 'cheese', 'extra cheese', 'mushrooms', 'fungi', 'onions', 'pepperoni', 'salami', 'olives', 'bacon', 'pineapple', 'peppers', 'bell peppers'.\n",
      "  - Spice. Synonyms: 'mild', 'not spicy', 'low spice', 'medium', 'average spice', 'moderate spice', 'hot', 'spicy', 'extra spicy'.\n",
      "  - Additional. Synonyms: 'extra cheese', 'gluten-free', 'no onions', 'without onions', 'vegan cheese'.\n",
      "\n",
      "# constraints:\n",
      "    - Keep the conversation structured and formal but lively.\n",
      "    - Avoid unnecessary explanations or unrelated questions.\n",
      "    - Focus solely on gathering details related to the order.\n",
      "    - Each response should directly address the user's input and lead toward completing the order.\n",
      "    - Stop asking questions when all required information has been gathered and the order is confirmed.\n",
      "\n",
      "# presentation: Formulate questions and responses as direct prompts for the user to clarify and complete the order.\n",
      "# controller: ordering_system\n",
      "# role: guiding the user through the process of ordering pizza\n",
      "\n",
      "# user_interaction:\n",
      "Previous conversation: \\{history\\}\n",
      "# response_logic:\n",
      "Based on the above interaction and current order details, determine the missing fields.\n",
      "If all fields are complete, confirm the order and request user confirmation.\n",
      "If fields are incomplete, ask targeted questions to gather the remaining details.\"\"\"\n",
      "\n",
      "prompt_template = PromptTemplate(\n",
      "    template=base_prompt_template,\n",
      "    input_variables=[\"history\", \"user_input\"],\n",
      ")\n",
      "\n",
      "# Инициализация LangChain\n",
      "chat_chain = LLMChain(llm=llm, prompt=prompt_template, memory=memory)\n",
      "\n",
      "add_routes(app, chat_chain, path=\"/process\")\n",
      "\n",
      "class UserMessage(BaseModel):\n",
      "    message: str\n",
      "\n",
      "@app.post(\"/process\")\n",
      "async def process_request(user_message: UserMessage):\n",
      "    user_input = user_message.message\n",
      "    memory.chat_memory.add_user_message(user_input)\n",
      "    service_response = None\n",
      "\n",
      "    \n",
      "        standardized_data = current_instance.to_dict()\n",
      "        if current_instance.is_order_complete():\n",
      "            current_instance.is_complete = True\n",
      "            current_instance.save_to_json()\n",
      "            response = \"Order complete and saved.\"\n",
      "            try:\n",
      "                service_response = \n",
      "    response = requests.post(\n",
      "        url=\"http://localhost:5000/order\",\n",
      "        json={\\\"product.parameters\\\": \\\"  - Type. Synonyms: 'margherita', 'margarita', 'pepperoni', 'salami', 'vegetarian', 'veggie', 'vegetable', 'hawaiian', 'pineapple'.\\n  - Size. Synonyms: 'small', 'little', 'tiny', 'medium', 'average', 'middle', 'large', 'big', 'huge'.\\n  - Crust. Synonyms: 'thin', 'light', 'crispy', 'thick', 'dense', 'stuffed', 'filled'.\\n  - Toppings. Synonyms: 'cheese', 'extra cheese', 'mushrooms', 'fungi', 'onions', 'pepperoni', 'salami', 'olives', 'bacon', 'pineapple', 'peppers', 'bell peppers'.\\n  - Spice. Synonyms: 'mild', 'not spicy', 'low spice', 'medium', 'average spice', 'moderate spice', 'hot', 'spicy', 'extra spicy'.\\n  - Additional. Synonyms: 'extra cheese', 'gluten-free', 'no onions', 'without onions', 'vegan cheese'.\\\", \\\"product.name\\\": \\\"pizza\\\"}\n",
      "    )\n",
      "    if response.status_code == 200:\n",
      "        return response.json()\n",
      "    else:\n",
      "        return {\"error\": \"Failed to connect to service\", \"status_code\": response.status_code}\n",
      "    \n",
      "            except Exception as e:\n",
      "                service_response = {\"error\": str(e)}\n",
      "        else:\n",
      "            response = chat_chain.invoke({\n",
      "                \"history\": memory.load_memory_variables({}).get(\"history\", \"\"),\n",
      "                \"user_input\": user_input\n",
      "            })[\"text\"]\n",
      "            service_response = None\n",
      "        \n",
      "    \n",
      "    memory.chat_memory.add_ai_message(response)\n",
      "    return {\n",
      "        \"response\": response,\n",
      "        \"data\": current_instance.to_dict(),\n",
      "        \"service_response\": service_response\n",
      "    }\n",
      "\n",
      "\n",
      "if __name__ == \"__main__\":\n",
      "    import uvicorn\n",
      "    uvicorn.run(app, host=\"localhost\", port=8080)\n",
      "\n"
     ]
    }
   ],
   "source": [
    "import requests\n",
    "\n",
    "# URL сервера\n",
    "url = \"http://localhost:8000/generate\"\n",
    "\n",
    "# Пути к JSON-файлам\n",
    "prompt_file_path = \"prompt_config.json\"\n",
    "config_file_path = \"order_config.json\"\n",
    "mapping_file_path = \"mapping_config.json\"\n",
    "service_file_path = \"service_config.json\"\n",
    "\n",
    "# Параметры запроса\n",
    "template_type = \"order\"\n",
    "\n",
    "# Отправка POST-запроса с файлами и параметром\n",
    "with open(prompt_file_path, \"rb\") as prompt_file, open(config_file_path, \"rb\") as config_file, open(mapping_file_path, \"rb\") as mapping_file, open(service_file_path, \"rb\") as service_file:\n",
    "    response = requests.post(\n",
    "        url,\n",
    "        files={\n",
    "            \"prompt_file\": prompt_file,\n",
    "            \"config_file\": config_file,\n",
    "            \"mapping_file\": mapping_file,\n",
    "            \"service_file\": service_file\n",
    "        },\n",
    "        data={\n",
    "            \"template_type\": template_type\n",
    "        }\n",
    "    )\n",
    "\n",
    "# Обработка ответа\n",
    "if response.status_code == 200:\n",
    "    result = response.json()\n",
    "    if result[\"status\"] == \"success\":\n",
    "        print(\"Сгенерированный код:\")\n",
    "        print(result[\"code\"])\n",
    "    else:\n",
    "        print(\"Ошибка:\", result[\"message\"])\n",
    "else:\n",
    "    result = response.json()\n",
    "    print(\"HTTP ошибка:\", response.status_code, result[\"message\"])"
   ]
  }
 ],
 "metadata": {
  "kernelspec": {
   "display_name": "Python 3",
   "language": "python",
   "name": "python3"
  },
  "language_info": {
   "codemirror_mode": {
    "name": "ipython",
    "version": 3
   },
   "file_extension": ".py",
   "mimetype": "text/x-python",
   "name": "python",
   "nbconvert_exporter": "python",
   "pygments_lexer": "ipython3",
   "version": "3.9.13"
  }
 },
 "nbformat": 4,
 "nbformat_minor": 2
}
